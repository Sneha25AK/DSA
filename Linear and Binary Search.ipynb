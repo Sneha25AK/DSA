{
 "cells": [
  {
   "cell_type": "markdown",
   "metadata": {},
   "source": [
    "## Linear Search and Binary Search "
   ]
  },
  {
   "cell_type": "markdown",
   "metadata": {},
   "source": [
    "### Problem statement:\n",
    "Alice has some cards with numbers written on them. She arranges the cards in decreasing order, and lays them out face down in a sequence on a table. She challenges Bob to pick out the card containing a given number by turning over as few cards as possible. Write a function to help Bob locate the card.\n"
   ]
  },
  {
   "cell_type": "markdown",
   "metadata": {},
   "source": [
    "input = list of cards, query number\n",
    "output = position of card in list starting form 0 index\n",
    "signature function: def locate_card(cards, query)\n",
    "\n",
    "algorithm:\n",
    "1. create a counter variable position=0.\n",
    "2. if cards[position]==query:\n",
    "        return position\n",
    "3. repeat step2 till the end of the list cards.\n",
    "4. if number is not present in the list return -1.\n"
   ]
  },
  {
   "cell_type": "code",
   "execution_count": 19,
   "metadata": {},
   "outputs": [],
   "source": [
    "def locate_card(cards, query):\n",
    "    pass"
   ]
  },
  {
   "cell_type": "code",
   "execution_count": 3,
   "metadata": {},
   "outputs": [],
   "source": [
    "### Test cases\n",
    "test1= {'input':{'cards':[22,17,12,10,7,4,2],\n",
    "                 'query':10},\n",
    "        'output':3}"
   ]
  },
  {
   "cell_type": "code",
   "execution_count": 5,
   "metadata": {},
   "outputs": [
    {
     "name": "stdout",
     "output_type": "stream",
     "text": [
      "{'input': {'cards': [22, 17, 12, 10, 7, 4, 2], 'query': 10}, 'output': 3}\n"
     ]
    }
   ],
   "source": [
    "print(test1)"
   ]
  },
  {
   "cell_type": "code",
   "execution_count": 6,
   "metadata": {},
   "outputs": [],
   "source": [
    "test2= {'input':{'cards':[22,17,12,10,7,4,2],\n",
    "                 'query':4},\n",
    "        'output':5}"
   ]
  },
  {
   "cell_type": "code",
   "execution_count": 7,
   "metadata": {},
   "outputs": [],
   "source": [
    "test3= {'input':{'cards':[22,17,12,10,7,4,2],\n",
    "                 'query':17},\n",
    "        'output':1}"
   ]
  },
  {
   "cell_type": "code",
   "execution_count": 9,
   "metadata": {},
   "outputs": [],
   "source": [
    "test4= {'input':{'cards':[22,17,12,10,7,4,2],\n",
    "                 'query':22},\n",
    "        'output':0}"
   ]
  },
  {
   "cell_type": "code",
   "execution_count": 10,
   "metadata": {},
   "outputs": [],
   "source": [
    "test5= {'input':{'cards':[22,17,12,10,7,4,2],\n",
    "                 'query':2},\n",
    "        'output':6}"
   ]
  },
  {
   "cell_type": "code",
   "execution_count": 11,
   "metadata": {},
   "outputs": [],
   "source": [
    "test6= {'input':{'cards':[22,17,12,10,7,4,2],\n",
    "                 'query':6},\n",
    "        'output':-1}"
   ]
  },
  {
   "cell_type": "code",
   "execution_count": 12,
   "metadata": {},
   "outputs": [],
   "source": [
    "test7= {'input':{'cards':[22,17,10,10,7,7,7,4,2],\n",
    "                 'query':10},\n",
    "        'output':2}"
   ]
  },
  {
   "cell_type": "code",
   "execution_count": 13,
   "metadata": {},
   "outputs": [],
   "source": [
    "test8= {'input':{'cards':[22],\n",
    "                 'query':22},\n",
    "        'output':0}"
   ]
  },
  {
   "cell_type": "code",
   "execution_count": 14,
   "metadata": {},
   "outputs": [],
   "source": [
    "test9= {'input':{'cards':[],\n",
    "                 'query':22},\n",
    "        'output':-1}"
   ]
  },
  {
   "cell_type": "code",
   "execution_count": 15,
   "metadata": {},
   "outputs": [],
   "source": [
    "tests=[test1, test2, test3, test4, test5, test6, test7, test8, test9]"
   ]
  },
  {
   "cell_type": "code",
   "execution_count": 17,
   "metadata": {},
   "outputs": [
    {
     "name": "stdout",
     "output_type": "stream",
     "text": [
      "[{'input': {'cards': [22, 17, 12, 10, 7, 4, 2], 'query': 10}, 'output': 3}, {'input': {'cards': [22, 17, 12, 10, 7, 4, 2], 'query': 4}, 'output': 5}, {'input': {'cards': [22, 17, 12, 10, 7, 4, 2], 'query': 17}, 'output': 1}, {'input': {'cards': [22, 17, 12, 10, 7, 4, 2], 'query': 22}, 'output': 0}, {'input': {'cards': [22, 17, 12, 10, 7, 4, 2], 'query': 2}, 'output': 6}, {'input': {'cards': [22, 17, 12, 10, 7, 4, 2], 'query': 6}, 'output': -1}, {'input': {'cards': [22, 17, 10, 10, 7, 7, 7, 4, 2], 'query': 10}, 'output': 2}, {'input': {'cards': [22], 'query': 22}, 'output': 0}, {'input': {'cards': [], 'query': 22}, 'output': -1}]\n"
     ]
    }
   ],
   "source": [
    "print(tests)"
   ]
  },
  {
   "cell_type": "code",
   "execution_count": 20,
   "metadata": {},
   "outputs": [
    {
     "name": "stdout",
     "output_type": "stream",
     "text": [
      "False\n",
      "False\n",
      "False\n",
      "False\n",
      "False\n",
      "False\n",
      "False\n",
      "False\n",
      "False\n"
     ]
    }
   ],
   "source": [
    "for test in tests:\n",
    "    print(locate_card(**test['input'])==test['output'])"
   ]
  },
  {
   "cell_type": "code",
   "execution_count": 35,
   "metadata": {},
   "outputs": [],
   "source": [
    "# implementation of algorithm\n",
    "def locate_card(cards, query):\n",
    "    for position in range(0, len(cards)):\n",
    "        #print(position)\n",
    "        if cards[position]== query:\n",
    "            return position\n",
    "            break;\n",
    "            \n",
    "    return -1\n",
    "        \n",
    "        \n",
    "    "
   ]
  },
  {
   "cell_type": "code",
   "execution_count": 36,
   "metadata": {},
   "outputs": [
    {
     "name": "stdout",
     "output_type": "stream",
     "text": [
      "{'input': {'cards': [22, 17, 12, 10, 7, 4, 2], 'query': 10}, 'output': 3} True\n",
      "{'input': {'cards': [22, 17, 12, 10, 7, 4, 2], 'query': 4}, 'output': 5} True\n",
      "{'input': {'cards': [22, 17, 12, 10, 7, 4, 2], 'query': 17}, 'output': 1} True\n",
      "{'input': {'cards': [22, 17, 12, 10, 7, 4, 2], 'query': 22}, 'output': 0} True\n",
      "{'input': {'cards': [22, 17, 12, 10, 7, 4, 2], 'query': 2}, 'output': 6} True\n",
      "{'input': {'cards': [22, 17, 12, 10, 7, 4, 2], 'query': 6}, 'output': -1} True\n",
      "{'input': {'cards': [22, 17, 10, 10, 7, 7, 7, 4, 2], 'query': 10}, 'output': 2} True\n",
      "{'input': {'cards': [22], 'query': 22}, 'output': 0} True\n",
      "{'input': {'cards': [], 'query': 22}, 'output': -1} True\n"
     ]
    }
   ],
   "source": [
    "#evaluation of test cases\n",
    "for test in tests:\n",
    "    result= locate_card(**test['input'])==test['output']\n",
    "    print(test , result)"
   ]
  },
  {
   "cell_type": "markdown",
   "metadata": {},
   "source": [
    "### Complexity\n",
    "The complexity of above algorithm is O(N), where N is the number of elements in the list.\n",
    "\n",
    "This can be improved by using following algorithm called Binary Search\n",
    "algorithm:\n",
    "1. Come up with a condition to determine whether the answer lies before, after or at a given position\n",
    "2. Retrieve the midpoint and the middle element of the list.\n",
    "            lo=0, hi= len(list)-1, midpoint=(lo+hi)//2, middle_elment=list[midpoint]\n",
    "3. If it is the answer, return the middle position as the answer.\n",
    "4. If answer lies before it, repeat the search with the first half of the list. ie hi=mid-1\n",
    "5. If the answer lies after it, repeat the search with the second half of the list. ie lo=mid+1\n"
   ]
  },
  {
   "cell_type": "code",
   "execution_count": null,
   "metadata": {},
   "outputs": [],
   "source": [
    "def check_location(cards, query, mid):\n",
    "    if cards[mid]== query:\n",
    "        if mid-1>=0 and cards[mid-1]==query:\n",
    "            return 'left'\n",
    "        else:\n",
    "            return 'found'\n",
    "    elif cards[mid]>query:\n",
    "        return'left'\n",
    "    else:\n",
    "        return 'right'\n",
    "    \n",
    "    \n",
    "def locate_card(cards, query):\n",
    "    lo=0\n",
    "    hi=len(cards)-1\n",
    "    \n",
    "    while lo<=hi:\n",
    "        mid= (lo+hi)//2\n",
    "        result= check_location(cards,query,mid)\n",
    "\n",
    "        if result='found':\n",
    "            return mid\n",
    "        elif result='left':\n",
    "            hi= mid-1\n",
    "        elif result='right':\n",
    "            lo=mid+1\n",
    "            \n",
    "    return -1"
   ]
  },
  {
   "cell_type": "code",
   "execution_count": 37,
   "metadata": {
    "scrolled": true
   },
   "outputs": [
    {
     "name": "stdout",
     "output_type": "stream",
     "text": [
      "{'input': {'cards': [22, 17, 12, 10, 7, 4, 2], 'query': 10}, 'output': 3} True\n",
      "{'input': {'cards': [22, 17, 12, 10, 7, 4, 2], 'query': 4}, 'output': 5} True\n",
      "{'input': {'cards': [22, 17, 12, 10, 7, 4, 2], 'query': 17}, 'output': 1} True\n",
      "{'input': {'cards': [22, 17, 12, 10, 7, 4, 2], 'query': 22}, 'output': 0} True\n",
      "{'input': {'cards': [22, 17, 12, 10, 7, 4, 2], 'query': 2}, 'output': 6} True\n",
      "{'input': {'cards': [22, 17, 12, 10, 7, 4, 2], 'query': 6}, 'output': -1} True\n",
      "{'input': {'cards': [22, 17, 10, 10, 7, 7, 7, 4, 2], 'query': 10}, 'output': 2} True\n",
      "{'input': {'cards': [22], 'query': 22}, 'output': 0} True\n",
      "{'input': {'cards': [], 'query': 22}, 'output': -1} True\n"
     ]
    }
   ],
   "source": [
    "#evaluation of test cases\n",
    "for test in tests:\n",
    "    result= locate_card(**test['input'])==test['output']\n",
    "    print(test , result)"
   ]
  },
  {
   "cell_type": "markdown",
   "metadata": {},
   "source": [
    "### Complexity\n",
    "The complexity of above algorithm is O(log(n)), where n is the number of elements in the list."
   ]
  },
  {
   "cell_type": "code",
   "execution_count": null,
   "metadata": {},
   "outputs": [],
   "source": []
  },
  {
   "cell_type": "code",
   "execution_count": null,
   "metadata": {},
   "outputs": [],
   "source": []
  }
 ],
 "metadata": {
  "kernelspec": {
   "display_name": "Python 3",
   "language": "python",
   "name": "python3"
  },
  "language_info": {
   "codemirror_mode": {
    "name": "ipython",
    "version": 3
   },
   "file_extension": ".py",
   "mimetype": "text/x-python",
   "name": "python",
   "nbconvert_exporter": "python",
   "pygments_lexer": "ipython3",
   "version": "3.8.5"
  }
 },
 "nbformat": 4,
 "nbformat_minor": 4
}
